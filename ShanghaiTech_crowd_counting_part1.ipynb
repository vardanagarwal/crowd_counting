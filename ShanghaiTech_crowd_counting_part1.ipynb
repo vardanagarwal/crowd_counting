{
  "nbformat": 4,
  "nbformat_minor": 0,
  "metadata": {
    "colab": {
      "name": "ShanghaiTech_crowd_counting_part1.ipynb",
      "provenance": [],
      "collapsed_sections": [],
      "toc_visible": true,
      "mount_file_id": "1neHgO3wQuuFMCmHoMaGuR6MBpP8kOiDK",
      "authorship_tag": "ABX9TyPm2+EA7Ou5ghtK1gEdP/l4",
      "include_colab_link": true
    },
    "kernelspec": {
      "name": "python3",
      "display_name": "Python 3"
    },
    "accelerator": "GPU"
  },
  "cells": [
    {
      "cell_type": "markdown",
      "metadata": {
        "id": "view-in-github",
        "colab_type": "text"
      },
      "source": [
        "<a href=\"https://colab.research.google.com/github/vardanagarwal/crowd_counting/blob/master/ShanghaiTech_crowd_counting_part1.ipynb\" target=\"_parent\"><img src=\"https://colab.research.google.com/assets/colab-badge.svg\" alt=\"Open In Colab\"/></a>"
      ]
    },
    {
      "cell_type": "code",
      "metadata": {
        "id": "KjbEEA0YrdR7",
        "colab_type": "code",
        "colab": {}
      },
      "source": [
        "!pip install tensorflow-gpu==2.0.0"
      ],
      "execution_count": 0,
      "outputs": []
    },
    {
      "cell_type": "code",
      "metadata": {
        "id": "t22Qipv3rgu2",
        "colab_type": "code",
        "outputId": "4ea9b1cc-c240-45b8-d4c1-31c7ad63961c",
        "colab": {
          "base_uri": "https://localhost:8080/",
          "height": 54
        }
      },
      "source": [
        "from google.colab import drive\n",
        "drive.mount('/content/drive')"
      ],
      "execution_count": 16,
      "outputs": [
        {
          "output_type": "stream",
          "text": [
            "Drive already mounted at /content/drive; to attempt to forcibly remount, call drive.mount(\"/content/drive\", force_remount=True).\n"
          ],
          "name": "stdout"
        }
      ]
    },
    {
      "cell_type": "code",
      "metadata": {
        "id": "SeyqXzeIrrjI",
        "colab_type": "code",
        "colab": {}
      },
      "source": [
        "import zipfile\n",
        "zf = zipfile.ZipFile('/content/drive/My Drive/ShanghaiTech_Crowd_Counting_Dataset.zip', \"r\")\n",
        "zf.extractall()"
      ],
      "execution_count": 0,
      "outputs": []
    },
    {
      "cell_type": "code",
      "metadata": {
        "id": "KueJ4jXcsf4e",
        "colab_type": "code",
        "colab": {}
      },
      "source": [
        "# import scipy.io as io\n",
        "# import cv2\n",
        "# from matplotlib import pyplot as plt\n",
        "# from matplotlib.pyplot import imread\n",
        "\n",
        "# mat = io.loadmat('part_B_final/train_data/ground_truth/GT_IMG_1.mat')\n",
        "# points = mat['image_info'][0,0][0,0][0]\n",
        "# img = imread('part_B_final/train_data/images/IMG_1.jpg', 'RGB')\n",
        "# img_copy = img.copy()"
      ],
      "execution_count": 0,
      "outputs": []
    },
    {
      "cell_type": "code",
      "metadata": {
        "id": "kuTjvSgetKwc",
        "colab_type": "code",
        "colab": {}
      },
      "source": [
        "# for point in points:\n",
        "#     cv2.circle(img_copy, (int(point[0]), int(point[1])), 3, (0, 255, 0), -1)\n",
        "# plt.imshow(img)\n",
        "# plt.figure()\n",
        "# plt.imshow(img_copy)\n",
        "# plt.show()"
      ],
      "execution_count": 0,
      "outputs": []
    },
    {
      "cell_type": "code",
      "metadata": {
        "id": "zFQb1zcgwgyd",
        "colab_type": "code",
        "colab": {}
      },
      "source": [
        "import h5py\n",
        "import PIL as Image\n",
        "import numpy as np\n",
        "import os\n",
        "import glob\n",
        "from matplotlib import pyplot as plt\n",
        "from scipy.ndimage.filters import gaussian_filter \n",
        "from scipy import spatial\n",
        "import scipy.io as io\n",
        "import json\n",
        "from matplotlib import cm as CM\n",
        "import scipy"
      ],
      "execution_count": 0,
      "outputs": []
    },
    {
      "cell_type": "code",
      "metadata": {
        "id": "cN7nEFNjwvNk",
        "colab_type": "code",
        "colab": {}
      },
      "source": [
        "def gaussian_filter_density(gt):\n",
        "    #Generates a density map using Gaussian filter transformation\n",
        "    \n",
        "    density = np.zeros(gt.shape, dtype=np.float32)\n",
        "    \n",
        "    gt_count = np.count_nonzero(gt)\n",
        "    \n",
        "    if gt_count == 0:\n",
        "        return density\n",
        "\n",
        "    # FInd out the K nearest neighbours using a KDTree\n",
        "    \n",
        "    pts = np.array(list(zip(np.nonzero(gt)[1].ravel(), np.nonzero(gt)[0].ravel())))\n",
        "    leafsize = 2048\n",
        "    \n",
        "    # build kdtree\n",
        "    tree = scipy.spatial.KDTree(pts.copy(), leafsize=leafsize)\n",
        "    \n",
        "    # query kdtree\n",
        "    distances, locations = tree.query(pts, k=4)\n",
        "\n",
        "        \n",
        "    for i, pt in enumerate(pts):\n",
        "        pt2d = np.zeros(gt.shape, dtype=np.float32)\n",
        "        pt2d[pt[1],pt[0]] = 1.\n",
        "        if gt_count > 1:\n",
        "            sigma = (distances[i][1]+distances[i][2]+distances[i][3])*0.1\n",
        "        else:\n",
        "            sigma = np.average(np.array(gt.shape))/2./2. #case: 1 point\n",
        "        \n",
        "        #Convolve with the gaussian filter\n",
        "        \n",
        "        density += scipy.ndimage.filters.gaussian_filter(pt2d, sigma, mode='constant')\n",
        "    \n",
        "    return density"
      ],
      "execution_count": 0,
      "outputs": []
    },
    {
      "cell_type": "code",
      "metadata": {
        "id": "mKH3x1TE5g1n",
        "colab_type": "code",
        "colab": {
          "base_uri": "https://localhost:8080/",
          "height": 34
        },
        "outputId": "3c247f5c-002f-4127-b72e-9dec9bd28bc8"
      },
      "source": [
        "part_A_train = os.path.join('part_A_final/train_data','images')\n",
        "part_A_test = os.path.join('part_A_final/test_data','images')\n",
        "part_B_train = os.path.join('part_B_final/train_data','images')\n",
        "part_B_test = os.path.join('part_B_final/test_data','images')\n",
        "path_sets = [part_A_train,part_A_test,part_B_train,part_B_test]\n",
        "img_paths = []\n",
        "for path in path_sets:\n",
        "    for img_path in glob.glob(os.path.join(path, '*.jpg')):\n",
        "        img_paths.append(img_path)\n",
        "print(len(img_paths))"
      ],
      "execution_count": 4,
      "outputs": [
        {
          "output_type": "stream",
          "text": [
            "1198\n"
          ],
          "name": "stdout"
        }
      ]
    },
    {
      "cell_type": "code",
      "metadata": {
        "id": "LbT5z4xA536K",
        "colab_type": "code",
        "colab": {}
      },
      "source": [
        "from tqdm import tqdm\n",
        "\n",
        "i = 0\n",
        "for img_path in tqdm(img_paths):\n",
        "        \n",
        "    \n",
        "    # Load sparse matrix\n",
        "    mat = io.loadmat(img_path.replace('.jpg','.mat').replace('images','ground_truth').replace('IMG_','GT_IMG_'))\n",
        "    \n",
        "    #Read image\n",
        "    img = plt.imread(img_path)\n",
        "    \n",
        "    # Create a zero matrix of image size\n",
        "    k = np.zeros((img.shape[0],img.shape[1]))\n",
        "    \n",
        "    gt = mat[\"image_info\"][0,0][0,0][0]\n",
        "    \n",
        "    #Generate hot encoded matrix of sparse matrix\n",
        "    for i in range(0,len(gt)):\n",
        "        if int(gt[i][1])<img.shape[0] and int(gt[i][0])<img.shape[1]:\n",
        "            k[int(gt[i][1]),int(gt[i][0])]=1\n",
        "    \n",
        "    # generate density map\n",
        "    k = gaussian_filter_density(k)\n",
        "    \n",
        "    # File path to save density map\n",
        "    file_path = img_path.replace('.jpg','.h5').replace('images','ground')\n",
        "    file_path = os.path.join('drive/My Drive/ShanghaiTech_h5', file_path) \n",
        "    \n",
        "    with h5py.File(file_path, 'w') as hf:\n",
        "            hf['density'] = k"
      ],
      "execution_count": 0,
      "outputs": []
    },
    {
      "cell_type": "code",
      "metadata": {
        "id": "qgqnPV-qxkhr",
        "colab_type": "code",
        "colab": {}
      },
      "source": [
        "# gt = points\n",
        "# k = np.zeros((img.shape[0],img.shape[1]))\n",
        "# for i in range(0,len(gt)):\n",
        "#         if int(gt[i][1])<img.shape[0] and int(gt[i][0])<img.shape[1]:\n",
        "#             k[int(gt[i][1]),int(gt[i][0])]=1\n",
        "    \n",
        "# # generate density map\n",
        "\n",
        "# k = gaussian_filter_density(k)"
      ],
      "execution_count": 0,
      "outputs": []
    },
    {
      "cell_type": "code",
      "metadata": {
        "id": "CEEtwDN_yjyF",
        "colab_type": "code",
        "outputId": "a9a15a7a-8ebe-4380-85e6-973b9a0f47f4",
        "colab": {
          "base_uri": "https://localhost:8080/",
          "height": 286
        }
      },
      "source": [
        "# plt.imshow(k)\n",
        "# plt.show()\n",
        "# np.sum(k)\n"
      ],
      "execution_count": 11,
      "outputs": [
        {
          "output_type": "display_data",
          "data": {
            "image/png": "[encoded data removed]",
            "text/plain": [
              "<Figure size 432x288 with 1 Axes>"
            ]
          },
          "metadata": {
            "tags": []
          }
        },
        {
          "output_type": "execute_result",
          "data": {
            "text/plain": [
              "226.65642"
            ]
          },
          "metadata": {
            "tags": []
          },
          "execution_count": 11
        }
      ]
    },
    {
      "cell_type": "code",
      "metadata": {
        "id": "_TeJP0_CzLq0",
        "colab_type": "code",
        "outputId": "462f9169-a5bb-4b6c-9d23-5d404b8321ef",
        "colab": {
          "base_uri": "https://localhost:8080/",
          "height": 286
        }
      },
      "source": [
        "# file_path = 'gt_density.h5'\n",
        "# with h5py.File(file_path, 'w') as hf:\n",
        "#         hf['density'] = k\n",
        "# gt_file = h5py.File(file_path,'r')\n",
        "# groundtruth = np.asarray(gt_file['density'])\n",
        "# plt.imshow(groundtruth,cmap=CM.jet)\n",
        "# print(\"Sum = \" ,np.sum(groundtruth))"
      ],
      "execution_count": 12,
      "outputs": [
        {
          "output_type": "stream",
          "text": [
            "Sum =  226.65642\n"
          ],
          "name": "stdout"
        },
        {
          "output_type": "display_data",
          "data": {
            "image/png": "[encoded data removed]",
            "text/plain": [
              "<Figure size 432x288 with 1 Axes>"
            ]
          },
          "metadata": {
            "tags": []
          }
        }
      ]
    },
    {
      "cell_type": "code",
      "metadata": {
        "id": "vNZFsDBuzvGT",
        "colab_type": "code",
        "outputId": "b36d5c28-82f4-4cb6-d4a3-b4c7e5bc588f",
        "colab": {
          "base_uri": "https://localhost:8080/",
          "height": 34
        }
      },
      "source": [
        "# points.shape"
      ],
      "execution_count": 13,
      "outputs": [
        {
          "output_type": "execute_result",
          "data": {
            "text/plain": [
              "(234, 2)"
            ]
          },
          "metadata": {
            "tags": []
          },
          "execution_count": 13
        }
      ]
    }
  ]
}