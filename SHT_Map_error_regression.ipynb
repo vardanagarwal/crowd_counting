{
  "nbformat": 4,
  "nbformat_minor": 0,
  "metadata": {
    "colab": {
      "name": "SHT_Map_error_regression.ipynb",
      "provenance": [],
      "authorship_tag": "ABX9TyOUqPF9CpvwusDCCjdt0tBZ",
      "include_colab_link": true
    },
    "kernelspec": {
      "name": "python3",
      "display_name": "Python 3"
    },
    "accelerator": "GPU"
  },
  "cells": [
    {
      "cell_type": "markdown",
      "metadata": {
        "id": "view-in-github",
        "colab_type": "text"
      },
      "source": [
        "<a href=\"https://colab.research.google.com/github/vardanagarwal/crowd_counting/blob/master/SHT_Map_error_regression.ipynb\" target=\"_parent\"><img src=\"https://colab.research.google.com/assets/colab-badge.svg\" alt=\"Open In Colab\"/></a>"
      ]
    },
    {
      "cell_type": "code",
      "metadata": {
        "id": "d8zN5EM39tlQ",
        "colab_type": "code",
        "colab": {
          "base_uri": "https://localhost:8080/",
          "height": 887
        },
        "outputId": "9fadeb18-9683-4a1c-e477-3e4d7bd9f842"
      },
      "source": [
        "!pip install tensorflow-gpu==2.0.0"
      ],
      "execution_count": 1,
      "outputs": [
        {
          "output_type": "stream",
          "text": [
            "Collecting tensorflow-gpu==2.0.0\n",
            "\u001b[?25l  Downloading https://files.pythonhosted.org/packages/25/44/47f0722aea081697143fbcf5d2aa60d1aee4aaacb5869aee2b568974777b/tensorflow_gpu-2.0.0-cp36-cp36m-manylinux2010_x86_64.whl (380.8MB)\n",
            "\u001b[K     |████████████████████████████████| 380.8MB 45kB/s \n",
            "\u001b[?25hRequirement already satisfied: gast==0.2.2 in /usr/local/lib/python3.6/dist-packages (from tensorflow-gpu==2.0.0) (0.2.2)\n",
            "Requirement already satisfied: wrapt>=1.11.1 in /usr/local/lib/python3.6/dist-packages (from tensorflow-gpu==2.0.0) (1.11.2)\n",
            "Requirement already satisfied: keras-applications>=1.0.8 in /usr/local/lib/python3.6/dist-packages (from tensorflow-gpu==2.0.0) (1.0.8)\n",
            "Requirement already satisfied: protobuf>=3.6.1 in /usr/local/lib/python3.6/dist-packages (from tensorflow-gpu==2.0.0) (3.10.0)\n",
            "Requirement already satisfied: keras-preprocessing>=1.0.5 in /usr/local/lib/python3.6/dist-packages (from tensorflow-gpu==2.0.0) (1.1.0)\n",
            "Requirement already satisfied: wheel>=0.26 in /usr/local/lib/python3.6/dist-packages (from tensorflow-gpu==2.0.0) (0.34.2)\n",
            "Requirement already satisfied: google-pasta>=0.1.6 in /usr/local/lib/python3.6/dist-packages (from tensorflow-gpu==2.0.0) (0.1.8)\n",
            "Collecting tensorflow-estimator<2.1.0,>=2.0.0\n",
            "\u001b[?25l  Downloading https://files.pythonhosted.org/packages/fc/08/8b927337b7019c374719145d1dceba21a8bb909b93b1ad6f8fb7d22c1ca1/tensorflow_estimator-2.0.1-py2.py3-none-any.whl (449kB)\n",
            "\u001b[K     |████████████████████████████████| 450kB 41.5MB/s \n",
            "\u001b[?25hCollecting tensorboard<2.1.0,>=2.0.0\n",
            "\u001b[?25l  Downloading https://files.pythonhosted.org/packages/76/54/99b9d5d52d5cb732f099baaaf7740403e83fe6b0cedde940fabd2b13d75a/tensorboard-2.0.2-py3-none-any.whl (3.8MB)\n",
            "\u001b[K     |████████████████████████████████| 3.8MB 41.9MB/s \n",
            "\u001b[?25hRequirement already satisfied: numpy<2.0,>=1.16.0 in /usr/local/lib/python3.6/dist-packages (from tensorflow-gpu==2.0.0) (1.17.5)\n",
            "Requirement already satisfied: astor>=0.6.0 in /usr/local/lib/python3.6/dist-packages (from tensorflow-gpu==2.0.0) (0.8.1)\n",
            "Requirement already satisfied: opt-einsum>=2.3.2 in /usr/local/lib/python3.6/dist-packages (from tensorflow-gpu==2.0.0) (3.1.0)\n",
            "Requirement already satisfied: six>=1.10.0 in /usr/local/lib/python3.6/dist-packages (from tensorflow-gpu==2.0.0) (1.12.0)\n",
            "Requirement already satisfied: grpcio>=1.8.6 in /usr/local/lib/python3.6/dist-packages (from tensorflow-gpu==2.0.0) (1.27.1)\n",
            "Requirement already satisfied: absl-py>=0.7.0 in /usr/local/lib/python3.6/dist-packages (from tensorflow-gpu==2.0.0) (0.9.0)\n",
            "Requirement already satisfied: termcolor>=1.1.0 in /usr/local/lib/python3.6/dist-packages (from tensorflow-gpu==2.0.0) (1.1.0)\n",
            "Requirement already satisfied: h5py in /usr/local/lib/python3.6/dist-packages (from keras-applications>=1.0.8->tensorflow-gpu==2.0.0) (2.8.0)\n",
            "Requirement already satisfied: setuptools in /usr/local/lib/python3.6/dist-packages (from protobuf>=3.6.1->tensorflow-gpu==2.0.0) (45.2.0)\n",
            "Requirement already satisfied: google-auth-oauthlib<0.5,>=0.4.1 in /usr/local/lib/python3.6/dist-packages (from tensorboard<2.1.0,>=2.0.0->tensorflow-gpu==2.0.0) (0.4.1)\n",
            "Requirement already satisfied: google-auth<2,>=1.6.3 in /usr/local/lib/python3.6/dist-packages (from tensorboard<2.1.0,>=2.0.0->tensorflow-gpu==2.0.0) (1.7.2)\n",
            "Requirement already satisfied: requests<3,>=2.21.0 in /usr/local/lib/python3.6/dist-packages (from tensorboard<2.1.0,>=2.0.0->tensorflow-gpu==2.0.0) (2.21.0)\n",
            "Requirement already satisfied: werkzeug>=0.11.15 in /usr/local/lib/python3.6/dist-packages (from tensorboard<2.1.0,>=2.0.0->tensorflow-gpu==2.0.0) (1.0.0)\n",
            "Requirement already satisfied: markdown>=2.6.8 in /usr/local/lib/python3.6/dist-packages (from tensorboard<2.1.0,>=2.0.0->tensorflow-gpu==2.0.0) (3.2.1)\n",
            "Requirement already satisfied: requests-oauthlib>=0.7.0 in /usr/local/lib/python3.6/dist-packages (from google-auth-oauthlib<0.5,>=0.4.1->tensorboard<2.1.0,>=2.0.0->tensorflow-gpu==2.0.0) (1.3.0)\n",
            "Requirement already satisfied: pyasn1-modules>=0.2.1 in /usr/local/lib/python3.6/dist-packages (from google-auth<2,>=1.6.3->tensorboard<2.1.0,>=2.0.0->tensorflow-gpu==2.0.0) (0.2.8)\n",
            "Requirement already satisfied: rsa<4.1,>=3.1.4 in /usr/local/lib/python3.6/dist-packages (from google-auth<2,>=1.6.3->tensorboard<2.1.0,>=2.0.0->tensorflow-gpu==2.0.0) (4.0)\n",
            "Requirement already satisfied: cachetools<3.2,>=2.0.0 in /usr/local/lib/python3.6/dist-packages (from google-auth<2,>=1.6.3->tensorboard<2.1.0,>=2.0.0->tensorflow-gpu==2.0.0) (3.1.1)\n",
            "Requirement already satisfied: chardet<3.1.0,>=3.0.2 in /usr/local/lib/python3.6/dist-packages (from requests<3,>=2.21.0->tensorboard<2.1.0,>=2.0.0->tensorflow-gpu==2.0.0) (3.0.4)\n",
            "Requirement already satisfied: urllib3<1.25,>=1.21.1 in /usr/local/lib/python3.6/dist-packages (from requests<3,>=2.21.0->tensorboard<2.1.0,>=2.0.0->tensorflow-gpu==2.0.0) (1.24.3)\n",
            "Requirement already satisfied: idna<2.9,>=2.5 in /usr/local/lib/python3.6/dist-packages (from requests<3,>=2.21.0->tensorboard<2.1.0,>=2.0.0->tensorflow-gpu==2.0.0) (2.8)\n",
            "Requirement already satisfied: certifi>=2017.4.17 in /usr/local/lib/python3.6/dist-packages (from requests<3,>=2.21.0->tensorboard<2.1.0,>=2.0.0->tensorflow-gpu==2.0.0) (2019.11.28)\n",
            "Requirement already satisfied: oauthlib>=3.0.0 in /usr/local/lib/python3.6/dist-packages (from requests-oauthlib>=0.7.0->google-auth-oauthlib<0.5,>=0.4.1->tensorboard<2.1.0,>=2.0.0->tensorflow-gpu==2.0.0) (3.1.0)\n",
            "Requirement already satisfied: pyasn1<0.5.0,>=0.4.6 in /usr/local/lib/python3.6/dist-packages (from pyasn1-modules>=0.2.1->google-auth<2,>=1.6.3->tensorboard<2.1.0,>=2.0.0->tensorflow-gpu==2.0.0) (0.4.8)\n",
            "\u001b[31mERROR: tensorflow 1.15.0 has requirement tensorboard<1.16.0,>=1.15.0, but you'll have tensorboard 2.0.2 which is incompatible.\u001b[0m\n",
            "\u001b[31mERROR: tensorflow 1.15.0 has requirement tensorflow-estimator==1.15.1, but you'll have tensorflow-estimator 2.0.1 which is incompatible.\u001b[0m\n",
            "Installing collected packages: tensorflow-estimator, tensorboard, tensorflow-gpu\n",
            "  Found existing installation: tensorflow-estimator 1.15.1\n",
            "    Uninstalling tensorflow-estimator-1.15.1:\n",
            "      Successfully uninstalled tensorflow-estimator-1.15.1\n",
            "  Found existing installation: tensorboard 1.15.0\n",
            "    Uninstalling tensorboard-1.15.0:\n",
            "      Successfully uninstalled tensorboard-1.15.0\n",
            "Successfully installed tensorboard-2.0.2 tensorflow-estimator-2.0.1 tensorflow-gpu-2.0.0\n"
          ],
          "name": "stdout"
        }
      ]
    },
    {
      "cell_type": "code",
      "metadata": {
        "id": "PGamn7lTAZXK",
        "colab_type": "code",
        "outputId": "74e3eb11-49c8-4b80-ec52-ab732723501d",
        "colab": {
          "base_uri": "https://localhost:8080/",
          "height": 122
        }
      },
      "source": [
        "from google.colab import drive\n",
        "drive.mount('/content/drive')"
      ],
      "execution_count": 2,
      "outputs": [
        {
          "output_type": "stream",
          "text": [
            "Go to this URL in a browser: https://accounts.google.com/o/oauth2/auth?client_id=947318989803-6bn6qk8qdgf4n4g3pfee6491hc0brc4i.apps.googleusercontent.com&redirect_uri=urn%3aietf%3awg%3aoauth%3a2.0%3aoob&response_type=code&scope=email%20https%3a%2f%2fwww.googleapis.com%2fauth%2fdocs.test%20https%3a%2f%2fwww.googleapis.com%2fauth%2fdrive%20https%3a%2f%2fwww.googleapis.com%2fauth%2fdrive.photos.readonly%20https%3a%2f%2fwww.googleapis.com%2fauth%2fpeopleapi.readonly\n",
            "\n",
            "Enter your authorization code:\n",
            "··········\n",
            "Mounted at /content/drive\n"
          ],
          "name": "stdout"
        }
      ]
    },
    {
      "cell_type": "markdown",
      "metadata": {
        "id": "CTm6w3uyFgii",
        "colab_type": "text"
      },
      "source": [
        "# Creating training and testing csv files"
      ]
    },
    {
      "cell_type": "code",
      "metadata": {
        "id": "R-5VebwsAc38",
        "colab_type": "code",
        "colab": {}
      },
      "source": [
        "import zipfile\n",
        "zf = zipfile.ZipFile('/content/drive/My Drive/ShanghaiTech_Crowd_Counting_Dataset.zip', \"r\")\n",
        "zf.extractall()"
      ],
      "execution_count": 0,
      "outputs": []
    },
    {
      "cell_type": "code",
      "metadata": {
        "id": "r96nX_uMAgyK",
        "colab_type": "code",
        "colab": {}
      },
      "source": [
        "import h5py\n",
        "import pandas as pd\n",
        "from matplotlib import pyplot as plt\n",
        "import scipy.io as io\n",
        "import glob\n",
        "from tqdm import tqdm\n",
        "import os\n",
        "import numpy as np\n",
        "import cv2"
      ],
      "execution_count": 0,
      "outputs": []
    },
    {
      "cell_type": "code",
      "metadata": {
        "id": "veulVFRsA5Uf",
        "colab_type": "code",
        "outputId": "772616a2-f2ba-40d9-9bf6-6b06d3684d9a",
        "colab": {
          "base_uri": "https://localhost:8080/",
          "height": 34
        }
      },
      "source": [
        "part_A_train = 'part_A_final/train_data/ground_truth'\n",
        "part_B_train = 'part_B_final/train_data/ground_truth'\n",
        "path_sets = [part_A_train, part_B_train]\n",
        "img_paths = []\n",
        "for path in path_sets:\n",
        "    for img_path in glob.glob(os.path.join(path, '*.mat')):\n",
        "        img_paths.append(img_path)\n",
        "print(len(img_paths))"
      ],
      "execution_count": 16,
      "outputs": [
        {
          "output_type": "stream",
          "text": [
            "700\n"
          ],
          "name": "stdout"
        }
      ]
    },
    {
      "cell_type": "code",
      "metadata": {
        "id": "VwFwKhN3Bz8E",
        "colab_type": "code",
        "outputId": "010968ca-5efd-497d-9b5d-9487d12caeb2",
        "colab": {
          "base_uri": "https://localhost:8080/",
          "height": 122
        }
      },
      "source": [
        "df = []\n",
        "for img_path in tqdm(img_paths):\n",
        "    mat = io.loadmat(img_path)    \n",
        "    real = mat[\"image_info\"][0,0][0,0][1][0][0]\n",
        "    file_path = img_path.replace('.mat','.h5').replace('ground_truth','ground').replace('GT_IMG', 'IMG')\n",
        "    file_path = os.path.join('drive/My Drive/ShanghaiTech_h5', file_path) \n",
        "    gt_file = h5py.File(file_path,'r')\n",
        "    groundtruth = np.asarray(gt_file['density'])\n",
        "    img_4 = cv2.resize(groundtruth,(int(groundtruth.shape[1]/4),int(groundtruth.shape[0]/4)),interpolation = cv2.INTER_CUBIC)*16\n",
        "    img_4 = np.expand_dims(img_4,axis  = 3)\n",
        "    val_4 = np.sum(img_4)\n",
        "    img_8 = cv2.resize(groundtruth,(int(groundtruth.shape[1]/8),int(groundtruth.shape[0]/8)),interpolation = cv2.INTER_CUBIC)*64\n",
        "    img_8 = np.expand_dims(img_8,axis  = 3)\n",
        "    val_8 = np.sum(img_8)\n",
        "    got = np.sum(groundtruth)\n",
        "    df.append((real, got, val_4, val_8))"
      ],
      "execution_count": 19,
      "outputs": [
        {
          "output_type": "stream",
          "text": [
            "  0%|          | 0/700 [00:00<?, ?it/s]/usr/local/lib/python3.6/dist-packages/ipykernel_launcher.py:10: DeprecationWarning: Both axis > a.ndim and axis < -a.ndim - 1 are deprecated and will raise an AxisError in the future.\n",
            "  # Remove the CWD from sys.path while we load stuff.\n",
            "/usr/local/lib/python3.6/dist-packages/ipykernel_launcher.py:13: DeprecationWarning: Both axis > a.ndim and axis < -a.ndim - 1 are deprecated and will raise an AxisError in the future.\n",
            "  del sys.path[0]\n",
            "100%|██████████| 700/700 [00:04<00:00, 163.74it/s]\n"
          ],
          "name": "stderr"
        }
      ]
    },
    {
      "cell_type": "code",
      "metadata": {
        "id": "yG3c_AR7D-F0",
        "colab_type": "code",
        "colab": {}
      },
      "source": [
        "train = pd.DataFrame(df, columns=('true', 'pred', 'pred_4', 'pred_8'))"
      ],
      "execution_count": 0,
      "outputs": []
    },
    {
      "cell_type": "code",
      "metadata": {
        "id": "Mziab2zGMuBp",
        "colab_type": "code",
        "outputId": "94614a9f-2b4c-4026-8dff-14f0fb52b028",
        "colab": {
          "base_uri": "https://localhost:8080/",
          "height": 34
        }
      },
      "source": [
        "part_A_test = 'part_A_final/test_data/ground_truth'\n",
        "part_B_test = 'part_B_final/test_data/ground_truth'\n",
        "path_sets = [part_A_test, part_B_test]\n",
        "img_paths = []\n",
        "for path in path_sets:\n",
        "    for img_path in glob.glob(os.path.join(path, '*.mat')):\n",
        "        img_paths.append(img_path)\n",
        "print(len(img_paths))"
      ],
      "execution_count": 21,
      "outputs": [
        {
          "output_type": "stream",
          "text": [
            "498\n"
          ],
          "name": "stdout"
        }
      ]
    },
    {
      "cell_type": "code",
      "metadata": {
        "id": "ff8PqlNKNaFD",
        "colab_type": "code",
        "outputId": "6f26512a-e58e-45ea-b951-63635821a49e",
        "colab": {
          "base_uri": "https://localhost:8080/",
          "height": 122
        }
      },
      "source": [
        "df = []\n",
        "for img_path in tqdm(img_paths):\n",
        "    mat = io.loadmat(img_path)    \n",
        "    real = mat[\"image_info\"][0,0][0,0][1][0][0]\n",
        "    file_path = img_path.replace('.mat','.h5').replace('ground_truth','ground').replace('GT_IMG', 'IMG')\n",
        "    file_path = os.path.join('drive/My Drive/ShanghaiTech_h5', file_path) \n",
        "    gt_file = h5py.File(file_path,'r')\n",
        "    groundtruth = np.asarray(gt_file['density'])\n",
        "    img_4 = cv2.resize(groundtruth,(int(groundtruth.shape[1]/4),int(groundtruth.shape[0]/4)),interpolation = cv2.INTER_CUBIC)*16\n",
        "    img_4 = np.expand_dims(img_4,axis  = 3)\n",
        "    val_4 = np.sum(img_4)\n",
        "    img_8 = cv2.resize(groundtruth,(int(groundtruth.shape[1]/8),int(groundtruth.shape[0]/8)),interpolation = cv2.INTER_CUBIC)*64\n",
        "    img_8 = np.expand_dims(img_8,axis  = 3)\n",
        "    val_8 = np.sum(img_8)\n",
        "    got = np.sum(groundtruth)\n",
        "    df.append((real, got, val_4, val_8))"
      ],
      "execution_count": 22,
      "outputs": [
        {
          "output_type": "stream",
          "text": [
            "\r  0%|          | 0/498 [00:00<?, ?it/s]/usr/local/lib/python3.6/dist-packages/ipykernel_launcher.py:10: DeprecationWarning: Both axis > a.ndim and axis < -a.ndim - 1 are deprecated and will raise an AxisError in the future.\n",
            "  # Remove the CWD from sys.path while we load stuff.\n",
            "/usr/local/lib/python3.6/dist-packages/ipykernel_launcher.py:13: DeprecationWarning: Both axis > a.ndim and axis < -a.ndim - 1 are deprecated and will raise an AxisError in the future.\n",
            "  del sys.path[0]\n",
            "100%|██████████| 498/498 [00:03<00:00, 158.44it/s]\n"
          ],
          "name": "stderr"
        }
      ]
    },
    {
      "cell_type": "code",
      "metadata": {
        "id": "EKrmIXcsOGdb",
        "colab_type": "code",
        "colab": {}
      },
      "source": [
        "test = pd.DataFrame(df, columns=('true', 'pred', 'pred_4', 'pred_8'))"
      ],
      "execution_count": 0,
      "outputs": []
    },
    {
      "cell_type": "code",
      "metadata": {
        "id": "A_l5id44Ux_a",
        "colab_type": "code",
        "outputId": "9533c50d-f68b-41a5-ad07-888f9caa54eb",
        "colab": {
          "base_uri": "https://localhost:8080/",
          "height": 419
        }
      },
      "source": [
        "test"
      ],
      "execution_count": 24,
      "outputs": [
        {
          "output_type": "execute_result",
          "data": {
            "text/html": [
              "<div>\n",
              "<style scoped>\n",
              "    .dataframe tbody tr th:only-of-type {\n",
              "        vertical-align: middle;\n",
              "    }\n",
              "\n",
              "    .dataframe tbody tr th {\n",
              "        vertical-align: top;\n",
              "    }\n",
              "\n",
              "    .dataframe thead th {\n",
              "        text-align: right;\n",
              "    }\n",
              "</style>\n",
              "<table border=\"1\" class=\"dataframe\">\n",
              "  <thead>\n",
              "    <tr style=\"text-align: right;\">\n",
              "      <th></th>\n",
              "      <th>true</th>\n",
              "      <th>pred</th>\n",
              "      <th>pred_4</th>\n",
              "      <th>pred_8</th>\n",
              "    </tr>\n",
              "  </thead>\n",
              "  <tbody>\n",
              "    <tr>\n",
              "      <th>0</th>\n",
              "      <td>217</td>\n",
              "      <td>214.017273</td>\n",
              "      <td>212.627457</td>\n",
              "      <td>213.013611</td>\n",
              "    </tr>\n",
              "    <tr>\n",
              "      <th>1</th>\n",
              "      <td>823</td>\n",
              "      <td>818.894470</td>\n",
              "      <td>816.805542</td>\n",
              "      <td>822.699524</td>\n",
              "    </tr>\n",
              "    <tr>\n",
              "      <th>2</th>\n",
              "      <td>69</td>\n",
              "      <td>63.758347</td>\n",
              "      <td>63.785679</td>\n",
              "      <td>62.399315</td>\n",
              "    </tr>\n",
              "    <tr>\n",
              "      <th>3</th>\n",
              "      <td>391</td>\n",
              "      <td>383.926056</td>\n",
              "      <td>382.301575</td>\n",
              "      <td>381.371246</td>\n",
              "    </tr>\n",
              "    <tr>\n",
              "      <th>4</th>\n",
              "      <td>589</td>\n",
              "      <td>583.171265</td>\n",
              "      <td>583.183838</td>\n",
              "      <td>578.118530</td>\n",
              "    </tr>\n",
              "    <tr>\n",
              "      <th>...</th>\n",
              "      <td>...</td>\n",
              "      <td>...</td>\n",
              "      <td>...</td>\n",
              "      <td>...</td>\n",
              "    </tr>\n",
              "    <tr>\n",
              "      <th>493</th>\n",
              "      <td>133</td>\n",
              "      <td>128.662048</td>\n",
              "      <td>128.702957</td>\n",
              "      <td>128.761078</td>\n",
              "    </tr>\n",
              "    <tr>\n",
              "      <th>494</th>\n",
              "      <td>79</td>\n",
              "      <td>72.764900</td>\n",
              "      <td>72.796249</td>\n",
              "      <td>72.892891</td>\n",
              "    </tr>\n",
              "    <tr>\n",
              "      <th>495</th>\n",
              "      <td>301</td>\n",
              "      <td>297.621063</td>\n",
              "      <td>298.245728</td>\n",
              "      <td>299.538300</td>\n",
              "    </tr>\n",
              "    <tr>\n",
              "      <th>496</th>\n",
              "      <td>331</td>\n",
              "      <td>329.603851</td>\n",
              "      <td>332.410339</td>\n",
              "      <td>337.635498</td>\n",
              "    </tr>\n",
              "    <tr>\n",
              "      <th>497</th>\n",
              "      <td>163</td>\n",
              "      <td>156.521103</td>\n",
              "      <td>156.901947</td>\n",
              "      <td>155.944016</td>\n",
              "    </tr>\n",
              "  </tbody>\n",
              "</table>\n",
              "<p>498 rows × 4 columns</p>\n",
              "</div>"
            ],
            "text/plain": [
              "     true        pred      pred_4      pred_8\n",
              "0     217  214.017273  212.627457  213.013611\n",
              "1     823  818.894470  816.805542  822.699524\n",
              "2      69   63.758347   63.785679   62.399315\n",
              "3     391  383.926056  382.301575  381.371246\n",
              "4     589  583.171265  583.183838  578.118530\n",
              "..    ...         ...         ...         ...\n",
              "493   133  128.662048  128.702957  128.761078\n",
              "494    79   72.764900   72.796249   72.892891\n",
              "495   301  297.621063  298.245728  299.538300\n",
              "496   331  329.603851  332.410339  337.635498\n",
              "497   163  156.521103  156.901947  155.944016\n",
              "\n",
              "[498 rows x 4 columns]"
            ]
          },
          "metadata": {
            "tags": []
          },
          "execution_count": 24
        }
      ]
    },
    {
      "cell_type": "code",
      "metadata": {
        "id": "xI3dmCTRFHAi",
        "colab_type": "code",
        "colab": {}
      },
      "source": [
        "train.to_csv('/content/drive/My Drive/train.csv', index=False)\n",
        "test.to_csv('/content/drive/My Drive/test.csv', index=False)"
      ],
      "execution_count": 0,
      "outputs": []
    },
    {
      "cell_type": "markdown",
      "metadata": {
        "id": "Q872voBoFnw7",
        "colab_type": "text"
      },
      "source": [
        "# Performing regression on training and testing csv files"
      ]
    },
    {
      "cell_type": "code",
      "metadata": {
        "id": "TnmFUpIQR2bc",
        "colab_type": "code",
        "colab": {}
      },
      "source": [
        "from sklearn.linear_model import LinearRegression\n",
        "from sklearn.metrics import mean_absolute_error, mean_squared_error\n",
        "\n",
        "X_train = train['pred'].values.reshape(-1, 1)\n",
        "y_train = train['true']\n",
        "X_test = test['pred'].values.reshape(-1, 1)\n",
        "y_test = test['true']\n",
        "regressor = LinearRegression()  \n",
        "regressor.fit(X_train, y_train)\n",
        "y_pred = regressor.predict(X_test)\n",
        "before_reg_mae = mean_absolute_error(np.array(y_test), np.array(X_test))\n",
        "after_reg_mae = mean_absolute_error(np.array(y_test), np.array(y_pred))\n",
        "before_reg_mse = mean_squared_error(np.array(y_test), np.array(X_test), squared=False)\n",
        "after_reg_mse = mean_squared_error(np.array(y_test), np.array(y_pred), squared=False)"
      ],
      "execution_count": 0,
      "outputs": []
    },
    {
      "cell_type": "code",
      "metadata": {
        "id": "MdmOAFWqU_wq",
        "colab_type": "code",
        "outputId": "faeb3dbd-999e-4729-fc73-e27e1234e9fe",
        "colab": {
          "base_uri": "https://localhost:8080/",
          "height": 85
        }
      },
      "source": [
        "print('MAE before regression =', before_reg_mae)\n",
        "print('MAE after regression =', after_reg_mae)\n",
        "print('MSE before regression =', before_reg_mse)\n",
        "print('MSE after regression =', after_reg_mse)"
      ],
      "execution_count": 77,
      "outputs": [
        {
          "output_type": "stream",
          "text": [
            "MAE before regression = 4.297796846872353\n",
            "MAE after regression = 1.8987950361959476\n",
            "MSE before regression = 5.4365785363952535\n",
            "MSE after regression = 3.2074225531052916\n"
          ],
          "name": "stdout"
        }
      ]
    },
    {
      "cell_type": "code",
      "metadata": {
        "id": "8nyBIP_Fb9fB",
        "colab_type": "code",
        "outputId": "a0ebb9e3-1d9b-4d58-c505-ca95e738f97d",
        "colab": {
          "base_uri": "https://localhost:8080/",
          "height": 1000
        }
      },
      "source": [
        "plt.figure(figsize=(15 ,15))\n",
        "plt.plot(np.arange(len(X_test)), X_test, 'b.', label='real values')\n",
        "plt.plot(np.arange(len(X_test)), y_test, 'r+', label='values before regression')\n",
        "plt.legend()\n",
        "plt.xlabel('Index')\n",
        "plt.ylabel('No of people')\n",
        "plt.title('Before applying regression')\n",
        "plt.figure(figsize=(15 ,15))\n",
        "plt.plot(np.arange(len(X_test)), X_test, 'b.', label='real values')\n",
        "plt.plot(np.arange(len(X_test)), y_pred, 'r+', label='values after regression')\n",
        "plt.legend()\n",
        "plt.xlabel('Index')\n",
        "plt.ylabel('No of people')\n",
        "plt.title('After applying regression')\n",
        "plt.show()"
      ],
      "execution_count": 78,
      "outputs": [
        {
          "output_type": "display_data",
          "data": {
            "image/png": "[encoded data removed]",
            "text/plain": [
              "<Figure size 1080x1080 with 1 Axes>"
            ]
          },
          "metadata": {
            "tags": []
          }
        },
        {
          "output_type": "display_data",
          "data": {
            "image/png": "[encoded data removed]",
            "text/plain": [
              "<Figure size 1080x1080 with 1 Axes>"
            ]
          },
          "metadata": {
            "tags": []
          }
        }
      ]
    },
    {
      "cell_type": "code",
      "metadata": {
        "id": "SM5W3U6EVY9u",
        "colab_type": "code",
        "colab": {}
      },
      "source": [
        "import pickle\n",
        "Pkl_Filename = \"drive/My Drive/regression.pkl\"  \n",
        "\n",
        "with open(Pkl_Filename, 'wb') as file:  \n",
        "    pickle.dump(regressor, file)"
      ],
      "execution_count": 0,
      "outputs": []
    },
    {
      "cell_type": "code",
      "metadata": {
        "id": "KHfi_d6ibbFA",
        "colab_type": "code",
        "outputId": "fb9024e5-eff3-41d0-9546-17088c833ad6",
        "colab": {
          "base_uri": "https://localhost:8080/",
          "height": 34
        }
      },
      "source": [
        "Pkl_Filename = \"drive/My Drive/regression.pkl\"  \n",
        "with open(Pkl_Filename, 'rb') as file:  \n",
        "    regressor = pickle.load(file)\n",
        "\n",
        "regressor"
      ],
      "execution_count": 0,
      "outputs": [
        {
          "output_type": "execute_result",
          "data": {
            "text/plain": [
              "LinearRegression(copy_X=True, fit_intercept=True, n_jobs=None, normalize=False)"
            ]
          },
          "metadata": {
            "tags": []
          },
          "execution_count": 77
        }
      ]
    }
  ]
}