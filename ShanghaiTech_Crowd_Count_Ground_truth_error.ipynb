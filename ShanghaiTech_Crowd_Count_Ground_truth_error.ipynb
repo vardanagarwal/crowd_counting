{
  "nbformat": 4,
  "nbformat_minor": 0,
  "metadata": {
    "colab": {
      "name": "ShanghaiTech_Crowd_Count_Ground_truth_error.ipynb",
      "provenance": [],
      "authorship_tag": "ABX9TyM7vQHjCoY5yfarl5Hbwjmr",
      "include_colab_link": true
    },
    "kernelspec": {
      "name": "python3",
      "display_name": "Python 3"
    },
    "accelerator": "GPU"
  },
  "cells": [
    {
      "cell_type": "markdown",
      "metadata": {
        "id": "view-in-github",
        "colab_type": "text"
      },
      "source": [
        "<a href=\"https://colab.research.google.com/github/vardanagarwal/crowd_counting/blob/master/ShanghaiTech_Crowd_Count_Ground_truth_error.ipynb\" target=\"_parent\"><img src=\"https://colab.research.google.com/assets/colab-badge.svg\" alt=\"Open In Colab\"/></a>"
      ]
    },
    {
      "cell_type": "code",
      "metadata": {
        "id": "d8zN5EM39tlQ",
        "colab_type": "code",
        "colab": {}
      },
      "source": [
        "!pip install tensorflow-gpu==2.0.0"
      ],
      "execution_count": 0,
      "outputs": []
    },
    {
      "cell_type": "code",
      "metadata": {
        "id": "PGamn7lTAZXK",
        "colab_type": "code",
        "colab": {
          "base_uri": "https://localhost:8080/",
          "height": 122
        },
        "outputId": "1f871ac1-69f5-4d73-b45d-544f65d56d44"
      },
      "source": [
        "from google.colab import drive\n",
        "drive.mount('/content/drive')"
      ],
      "execution_count": 2,
      "outputs": [
        {
          "output_type": "stream",
          "text": [
            "Go to this URL in a browser: https://accounts.google.com/o/oauth2/auth?client_id=947318989803-6bn6qk8qdgf4n4g3pfee6491hc0brc4i.apps.googleusercontent.com&redirect_uri=urn%3aietf%3awg%3aoauth%3a2.0%3aoob&response_type=code&scope=email%20https%3a%2f%2fwww.googleapis.com%2fauth%2fdocs.test%20https%3a%2f%2fwww.googleapis.com%2fauth%2fdrive%20https%3a%2f%2fwww.googleapis.com%2fauth%2fdrive.photos.readonly%20https%3a%2f%2fwww.googleapis.com%2fauth%2fpeopleapi.readonly\n",
            "\n",
            "Enter your authorization code:\n",
            "··········\n",
            "Mounted at /content/drive\n"
          ],
          "name": "stdout"
        }
      ]
    },
    {
      "cell_type": "code",
      "metadata": {
        "id": "R-5VebwsAc38",
        "colab_type": "code",
        "colab": {}
      },
      "source": [
        "import zipfile\n",
        "zf = zipfile.ZipFile('/content/drive/My Drive/ShanghaiTech_Crowd_Counting_Dataset.zip', \"r\")\n",
        "zf.extractall()"
      ],
      "execution_count": 0,
      "outputs": []
    },
    {
      "cell_type": "code",
      "metadata": {
        "id": "r96nX_uMAgyK",
        "colab_type": "code",
        "colab": {}
      },
      "source": [
        "import h5py\n",
        "import pandas as pd\n",
        "from matplotlib import pyplot as plt\n",
        "import scipy.io as io\n",
        "import glob\n",
        "from tqdm import tqdm\n",
        "import os\n",
        "import numpy as np"
      ],
      "execution_count": 0,
      "outputs": []
    },
    {
      "cell_type": "code",
      "metadata": {
        "id": "veulVFRsA5Uf",
        "colab_type": "code",
        "colab": {
          "base_uri": "https://localhost:8080/",
          "height": 34
        },
        "outputId": "ab81956c-eb9f-49c1-8395-b4383ea8aef9"
      },
      "source": [
        "part_A_train = 'part_A_final/train_data/ground_truth'\n",
        "part_B_train = 'part_B_final/train_data/ground_truth'\n",
        "path_sets = [part_A_train, part_B_train]\n",
        "img_paths = []\n",
        "for path in path_sets:\n",
        "    for img_path in glob.glob(os.path.join(path, '*.mat')):\n",
        "        img_paths.append(img_path)\n",
        "print(len(img_paths))"
      ],
      "execution_count": 66,
      "outputs": [
        {
          "output_type": "stream",
          "text": [
            "700\n"
          ],
          "name": "stdout"
        }
      ]
    },
    {
      "cell_type": "code",
      "metadata": {
        "id": "VwFwKhN3Bz8E",
        "colab_type": "code",
        "colab": {
          "base_uri": "https://localhost:8080/",
          "height": 34
        },
        "outputId": "97d1a80e-1a23-4c83-f82c-5a63613d621a"
      },
      "source": [
        "df = []\n",
        "for img_path in tqdm(img_paths):\n",
        "    mat = io.loadmat(img_path)    \n",
        "    real = mat[\"image_info\"][0,0][0,0][1][0][0]\n",
        "    file_path = img_path.replace('.mat','.h5').replace('ground_truth','ground').replace('GT_IMG', 'IMG')\n",
        "    file_path = os.path.join('drive/My Drive/ShanghaiTech_h5', file_path) \n",
        "    gt_file = h5py.File(file_path,'r')\n",
        "    groundtruth = np.asarray(gt_file['density'])\n",
        "    got = np.sum(groundtruth)\n",
        "    df.append((real, got))"
      ],
      "execution_count": 67,
      "outputs": [
        {
          "output_type": "stream",
          "text": [
            "100%|██████████| 700/700 [00:04<00:00, 164.88it/s]\n"
          ],
          "name": "stderr"
        }
      ]
    },
    {
      "cell_type": "code",
      "metadata": {
        "id": "yG3c_AR7D-F0",
        "colab_type": "code",
        "colab": {}
      },
      "source": [
        "train = pd.DataFrame(df, columns=('true', 'pred'))"
      ],
      "execution_count": 0,
      "outputs": []
    },
    {
      "cell_type": "code",
      "metadata": {
        "id": "Mziab2zGMuBp",
        "colab_type": "code",
        "colab": {
          "base_uri": "https://localhost:8080/",
          "height": 34
        },
        "outputId": "a5774267-948a-4163-b7f7-f3c0773468f7"
      },
      "source": [
        "part_A_test = 'part_A_final/test_data/ground_truth'\n",
        "part_B_test = 'part_B_final/test_data/ground_truth'\n",
        "path_sets = [part_A_test, part_B_test]\n",
        "img_paths = []\n",
        "for path in path_sets:\n",
        "    for img_path in glob.glob(os.path.join(path, '*.mat')):\n",
        "        img_paths.append(img_path)\n",
        "print(len(img_paths))"
      ],
      "execution_count": 54,
      "outputs": [
        {
          "output_type": "stream",
          "text": [
            "498\n"
          ],
          "name": "stdout"
        }
      ]
    },
    {
      "cell_type": "code",
      "metadata": {
        "id": "ff8PqlNKNaFD",
        "colab_type": "code",
        "colab": {
          "base_uri": "https://localhost:8080/",
          "height": 34
        },
        "outputId": "ce28ff91-7111-4185-ed98-2afbc4d10d0b"
      },
      "source": [
        "df = []\n",
        "for img_path in tqdm(img_paths):\n",
        "    mat = io.loadmat(img_path)    \n",
        "    real = mat[\"image_info\"][0,0][0,0][1][0][0]\n",
        "    file_path = img_path.replace('.mat','.h5').replace('ground_truth','ground').replace('GT_IMG', 'IMG')\n",
        "    file_path = os.path.join('drive/My Drive/ShanghaiTech_h5', file_path) \n",
        "    gt_file = h5py.File(file_path,'r')\n",
        "    groundtruth = np.asarray(gt_file['density'])\n",
        "    got = np.sum(groundtruth)\n",
        "    df.append((real, got))"
      ],
      "execution_count": 55,
      "outputs": [
        {
          "output_type": "stream",
          "text": [
            "100%|██████████| 498/498 [00:03<00:00, 165.49it/s]\n"
          ],
          "name": "stderr"
        }
      ]
    },
    {
      "cell_type": "code",
      "metadata": {
        "id": "EKrmIXcsOGdb",
        "colab_type": "code",
        "colab": {}
      },
      "source": [
        "test = pd.DataFrame(df, columns=('true', 'pred'))"
      ],
      "execution_count": 0,
      "outputs": []
    },
    {
      "cell_type": "code",
      "metadata": {
        "id": "A_l5id44Ux_a",
        "colab_type": "code",
        "colab": {
          "base_uri": "https://localhost:8080/",
          "height": 419
        },
        "outputId": "b958819b-ff2c-4703-92c5-f37666e6be55"
      },
      "source": [
        "test"
      ],
      "execution_count": 70,
      "outputs": [
        {
          "output_type": "execute_result",
          "data": {
            "text/html": [
              "<div>\n",
              "<style scoped>\n",
              "    .dataframe tbody tr th:only-of-type {\n",
              "        vertical-align: middle;\n",
              "    }\n",
              "\n",
              "    .dataframe tbody tr th {\n",
              "        vertical-align: top;\n",
              "    }\n",
              "\n",
              "    .dataframe thead th {\n",
              "        text-align: right;\n",
              "    }\n",
              "</style>\n",
              "<table border=\"1\" class=\"dataframe\">\n",
              "  <thead>\n",
              "    <tr style=\"text-align: right;\">\n",
              "      <th></th>\n",
              "      <th>true</th>\n",
              "      <th>pred</th>\n",
              "    </tr>\n",
              "  </thead>\n",
              "  <tbody>\n",
              "    <tr>\n",
              "      <th>0</th>\n",
              "      <td>93</td>\n",
              "      <td>88.893356</td>\n",
              "    </tr>\n",
              "    <tr>\n",
              "      <th>1</th>\n",
              "      <td>429</td>\n",
              "      <td>426.908142</td>\n",
              "    </tr>\n",
              "    <tr>\n",
              "      <th>2</th>\n",
              "      <td>72</td>\n",
              "      <td>68.211365</td>\n",
              "    </tr>\n",
              "    <tr>\n",
              "      <th>3</th>\n",
              "      <td>760</td>\n",
              "      <td>757.570068</td>\n",
              "    </tr>\n",
              "    <tr>\n",
              "      <th>4</th>\n",
              "      <td>397</td>\n",
              "      <td>392.495697</td>\n",
              "    </tr>\n",
              "    <tr>\n",
              "      <th>...</th>\n",
              "      <td>...</td>\n",
              "      <td>...</td>\n",
              "    </tr>\n",
              "    <tr>\n",
              "      <th>493</th>\n",
              "      <td>111</td>\n",
              "      <td>103.047050</td>\n",
              "    </tr>\n",
              "    <tr>\n",
              "      <th>494</th>\n",
              "      <td>51</td>\n",
              "      <td>46.697617</td>\n",
              "    </tr>\n",
              "    <tr>\n",
              "      <th>495</th>\n",
              "      <td>73</td>\n",
              "      <td>70.316360</td>\n",
              "    </tr>\n",
              "    <tr>\n",
              "      <th>496</th>\n",
              "      <td>200</td>\n",
              "      <td>189.710571</td>\n",
              "    </tr>\n",
              "    <tr>\n",
              "      <th>497</th>\n",
              "      <td>58</td>\n",
              "      <td>54.147266</td>\n",
              "    </tr>\n",
              "  </tbody>\n",
              "</table>\n",
              "<p>498 rows × 2 columns</p>\n",
              "</div>"
            ],
            "text/plain": [
              "     true        pred\n",
              "0      93   88.893356\n",
              "1     429  426.908142\n",
              "2      72   68.211365\n",
              "3     760  757.570068\n",
              "4     397  392.495697\n",
              "..    ...         ...\n",
              "493   111  103.047050\n",
              "494    51   46.697617\n",
              "495    73   70.316360\n",
              "496   200  189.710571\n",
              "497    58   54.147266\n",
              "\n",
              "[498 rows x 2 columns]"
            ]
          },
          "metadata": {
            "tags": []
          },
          "execution_count": 70
        }
      ]
    },
    {
      "cell_type": "code",
      "metadata": {
        "id": "TnmFUpIQR2bc",
        "colab_type": "code",
        "colab": {}
      },
      "source": [
        "from sklearn.linear_model import LinearRegression\n",
        "from sklearn.metrics import mean_absolute_error\n",
        "\n",
        "X_train = train['pred'].values.reshape(-1, 1)\n",
        "y_train = train['true']\n",
        "X_test = test['pred'].values.reshape(-1, 1)\n",
        "y_test = test['true']\n",
        "regressor = LinearRegression()  \n",
        "regressor.fit(X_train, y_train)\n",
        "y_pred = regressor.predict(X_test)\n",
        "before_reg = mean_absolute_error(np.array(y_test),np.array(X_test))\n",
        "after_reg = mean_absolute_error(np.array(y_test),np.array(y_pred))"
      ],
      "execution_count": 0,
      "outputs": []
    },
    {
      "cell_type": "code",
      "metadata": {
        "id": "MdmOAFWqU_wq",
        "colab_type": "code",
        "colab": {
          "base_uri": "https://localhost:8080/",
          "height": 51
        },
        "outputId": "8007edde-a562-43d5-e378-70cd702bc7e0"
      },
      "source": [
        "print('MAE before regression =', before_reg)\n",
        "print('MAE after regression =', after_reg)"
      ],
      "execution_count": 75,
      "outputs": [
        {
          "output_type": "stream",
          "text": [
            "MAE before regression = 4.297796846872353\n",
            "MAE after regression = 1.8987950361959476\n"
          ],
          "name": "stdout"
        }
      ]
    },
    {
      "cell_type": "code",
      "metadata": {
        "id": "8nyBIP_Fb9fB",
        "colab_type": "code",
        "colab": {
          "base_uri": "https://localhost:8080/",
          "height": 1000
        },
        "outputId": "7765c57d-0bf3-4d63-86cf-512e554de708"
      },
      "source": [
        "plt.figure(figsize=(10 ,10))\n",
        "plt.plot(X_test, X_test, label='real values')\n",
        "plt.plot(X_test, y_test, label='values before regression')\n",
        "plt.legend()\n",
        "plt.xlabel('No of people')\n",
        "plt.ylabel('No of people')\n",
        "plt.title('Before applying regression')\n",
        "plt.figure(figsize=(10 ,10))\n",
        "plt.plot(X_test, X_test, label='real values')\n",
        "plt.plot(X_test, y_pred, label='values after regression')\n",
        "plt.legend()\n",
        "plt.xlabel('No of people')\n",
        "plt.ylabel('No of people')\n",
        "plt.title('After applying regression')\n",
        "plt.show()"
      ],
      "execution_count": 94,
      "outputs": [
        {
          "output_type": "display_data",
          "data": {
            "image/png": "[encoded data removed]",
            "text/plain": [
              "<Figure size 720x720 with 1 Axes>"
            ]
          },
          "metadata": {
            "tags": []
          }
        },
        {
          "output_type": "display_data",
          "data": {
            "image/png": "[encoded data removed]",
            "text/plain": [
              "<Figure size 720x720 with 1 Axes>"
            ]
          },
          "metadata": {
            "tags": []
          }
        }
      ]
    },
    {
      "cell_type": "code",
      "metadata": {
        "id": "SM5W3U6EVY9u",
        "colab_type": "code",
        "colab": {}
      },
      "source": [
        "import pickle\n",
        "Pkl_Filename = \"drive/My Drive/regression.pkl\"  \n",
        "\n",
        "with open(Pkl_Filename, 'wb') as file:  \n",
        "    pickle.dump(regressor, file)"
      ],
      "execution_count": 0,
      "outputs": []
    },
    {
      "cell_type": "code",
      "metadata": {
        "id": "KHfi_d6ibbFA",
        "colab_type": "code",
        "colab": {
          "base_uri": "https://localhost:8080/",
          "height": 34
        },
        "outputId": "fb9024e5-eff3-41d0-9546-17088c833ad6"
      },
      "source": [
        "Pkl_Filename = \"drive/My Drive/regression.pkl\"  \n",
        "with open(Pkl_Filename, 'rb') as file:  \n",
        "    regressor = pickle.load(file)\n",
        "\n",
        "regressor"
      ],
      "execution_count": 77,
      "outputs": [
        {
          "output_type": "execute_result",
          "data": {
            "text/plain": [
              "LinearRegression(copy_X=True, fit_intercept=True, n_jobs=None, normalize=False)"
            ]
          },
          "metadata": {
            "tags": []
          },
          "execution_count": 77
        }
      ]
    }
  ]
}